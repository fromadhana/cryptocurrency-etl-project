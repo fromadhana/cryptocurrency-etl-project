{
  "cells": [
    {
      "cell_type": "markdown",
      "metadata": {
        "id": "ZOcPZcX1MFZm"
      },
      "source": [
        "# Bitcoin Price Prediction - Liniear Regression \n",
        "---\n",
        "BTC price prediction using Linear Regression"
      ]
    },
    {
      "cell_type": "markdown",
      "metadata": {},
      "source": [
        "## <font color=#FFBD33>0. Get BTC historical data from CoinGecko API</font>"
      ]
    },
    {
      "cell_type": "code",
      "execution_count": 1,
      "metadata": {},
      "outputs": [],
      "source": [
        "# Import library\n",
        "import datetime as dt\n",
        "import pandas as pd #type: ignore\n",
        "import requests as req"
      ]
    },
    {
      "cell_type": "code",
      "execution_count": 2,
      "metadata": {},
      "outputs": [
        {
          "data": {
            "text/html": [
              "<div>\n",
              "<style scoped>\n",
              "    .dataframe tbody tr th:only-of-type {\n",
              "        vertical-align: middle;\n",
              "    }\n",
              "\n",
              "    .dataframe tbody tr th {\n",
              "        vertical-align: top;\n",
              "    }\n",
              "\n",
              "    .dataframe thead th {\n",
              "        text-align: right;\n",
              "    }\n",
              "</style>\n",
              "<table border=\"1\" class=\"dataframe\">\n",
              "  <thead>\n",
              "    <tr style=\"text-align: right;\">\n",
              "      <th></th>\n",
              "      <th>Timestamp</th>\n",
              "      <th>Open</th>\n",
              "      <th>High</th>\n",
              "      <th>Low</th>\n",
              "      <th>Close</th>\n",
              "      <th>Dates</th>\n",
              "    </tr>\n",
              "  </thead>\n",
              "  <tbody>\n",
              "    <tr>\n",
              "      <th>0</th>\n",
              "      <td>1367280000000</td>\n",
              "      <td>135.30</td>\n",
              "      <td>141.96</td>\n",
              "      <td>135.30</td>\n",
              "      <td>135.30</td>\n",
              "      <td>2013-04-30</td>\n",
              "    </tr>\n",
              "    <tr>\n",
              "      <th>1</th>\n",
              "      <td>1367539200000</td>\n",
              "      <td>117.00</td>\n",
              "      <td>117.00</td>\n",
              "      <td>91.01</td>\n",
              "      <td>91.01</td>\n",
              "      <td>2013-05-03</td>\n",
              "    </tr>\n",
              "    <tr>\n",
              "      <th>2</th>\n",
              "      <td>1367884800000</td>\n",
              "      <td>111.25</td>\n",
              "      <td>118.33</td>\n",
              "      <td>106.40</td>\n",
              "      <td>106.40</td>\n",
              "      <td>2013-05-07</td>\n",
              "    </tr>\n",
              "    <tr>\n",
              "      <th>3</th>\n",
              "      <td>1368230400000</td>\n",
              "      <td>112.64</td>\n",
              "      <td>118.78</td>\n",
              "      <td>112.64</td>\n",
              "      <td>113.01</td>\n",
              "      <td>2013-05-11</td>\n",
              "    </tr>\n",
              "    <tr>\n",
              "      <th>4</th>\n",
              "      <td>1368576000000</td>\n",
              "      <td>114.71</td>\n",
              "      <td>117.18</td>\n",
              "      <td>114.16</td>\n",
              "      <td>114.16</td>\n",
              "      <td>2013-05-15</td>\n",
              "    </tr>\n",
              "  </tbody>\n",
              "</table>\n",
              "</div>"
            ],
            "text/plain": [
              "       Timestamp    Open    High     Low   Close      Dates\n",
              "0  1367280000000  135.30  141.96  135.30  135.30 2013-04-30\n",
              "1  1367539200000  117.00  117.00   91.01   91.01 2013-05-03\n",
              "2  1367884800000  111.25  118.33  106.40  106.40 2013-05-07\n",
              "3  1368230400000  112.64  118.78  112.64  113.01 2013-05-11\n",
              "4  1368576000000  114.71  117.18  114.16  114.16 2013-05-15"
            ]
          },
          "execution_count": 2,
          "metadata": {},
          "output_type": "execute_result"
        }
      ],
      "source": [
        "# get BTC historical data from CoinGecko API\n",
        "btc_ohlc= req.get(f'https://api.coingecko.com/api/v3/coins/bitcoin/ohlc?vs_currency=usd&days=max')\n",
        "\n",
        "# transform to json\n",
        "json_text = btc_ohlc.json()\n",
        "\n",
        "# parsing json and create dataframe\n",
        "btc_df = pd.DataFrame(data = json_text, columns = ['Timestamp', 'Open', 'High', 'Low', 'Close'])\n",
        "\n",
        "#adding dates column\n",
        "btc_df['Dates'] = pd.to_datetime(btc_df['Timestamp'], unit='ms')\n",
        "\n",
        "#save dataframe into csv\n",
        "btc_df.to_csv('btc_ohlc.csv', encoding='utf-8', index=False)\n",
        "btc_df.head()"
      ]
    },
    {
      "cell_type": "markdown",
      "metadata": {
        "id": "kg2THSdDMO07"
      },
      "source": [
        "## <font color=#FFBD33>1. Load Dataset</font>"
      ]
    },
    {
      "cell_type": "code",
      "execution_count": 3,
      "metadata": {
        "id": "LAlTV3rLMKIP"
      },
      "outputs": [],
      "source": [
        "#Import Library\n",
        "import pandas as pd\n",
        "import numpy as np\n",
        "import seaborn as sns \n",
        "import datetime as dt\n",
        "import matplotlib.pyplot as plt\n",
        "from sklearn import metrics\n",
        "from sklearn.linear_model import LinearRegression\n",
        "from sklearn.model_selection import train_test_split\n",
        "import warnings\n",
        "warnings.filterwarnings(\"ignore\")"
      ]
    },
    {
      "cell_type": "code",
      "execution_count": 4,
      "metadata": {
        "colab": {
          "base_uri": "https://localhost:8080/",
          "height": 221
        },
        "id": "8AvZkXNuMU6x",
        "outputId": "0d2e37e6-ccff-4a04-b051-f4887ebb5df7"
      },
      "outputs": [
        {
          "name": "stdout",
          "output_type": "stream",
          "text": [
            "Number of datapoint: 917\n"
          ]
        },
        {
          "data": {
            "text/html": [
              "<div>\n",
              "<style scoped>\n",
              "    .dataframe tbody tr th:only-of-type {\n",
              "        vertical-align: middle;\n",
              "    }\n",
              "\n",
              "    .dataframe tbody tr th {\n",
              "        vertical-align: top;\n",
              "    }\n",
              "\n",
              "    .dataframe thead th {\n",
              "        text-align: right;\n",
              "    }\n",
              "</style>\n",
              "<table border=\"1\" class=\"dataframe\">\n",
              "  <thead>\n",
              "    <tr style=\"text-align: right;\">\n",
              "      <th></th>\n",
              "      <th>Timestamp</th>\n",
              "      <th>Open</th>\n",
              "      <th>High</th>\n",
              "      <th>Low</th>\n",
              "      <th>Close</th>\n",
              "      <th>Dates</th>\n",
              "    </tr>\n",
              "  </thead>\n",
              "  <tbody>\n",
              "    <tr>\n",
              "      <th>0</th>\n",
              "      <td>1367280000000</td>\n",
              "      <td>135.30</td>\n",
              "      <td>141.96</td>\n",
              "      <td>135.30</td>\n",
              "      <td>135.30</td>\n",
              "      <td>2013-04-30</td>\n",
              "    </tr>\n",
              "    <tr>\n",
              "      <th>1</th>\n",
              "      <td>1367539200000</td>\n",
              "      <td>117.00</td>\n",
              "      <td>117.00</td>\n",
              "      <td>91.01</td>\n",
              "      <td>91.01</td>\n",
              "      <td>2013-05-03</td>\n",
              "    </tr>\n",
              "    <tr>\n",
              "      <th>2</th>\n",
              "      <td>1367884800000</td>\n",
              "      <td>111.25</td>\n",
              "      <td>118.33</td>\n",
              "      <td>106.40</td>\n",
              "      <td>106.40</td>\n",
              "      <td>2013-05-07</td>\n",
              "    </tr>\n",
              "    <tr>\n",
              "      <th>3</th>\n",
              "      <td>1368230400000</td>\n",
              "      <td>112.64</td>\n",
              "      <td>118.78</td>\n",
              "      <td>112.64</td>\n",
              "      <td>113.01</td>\n",
              "      <td>2013-05-11</td>\n",
              "    </tr>\n",
              "    <tr>\n",
              "      <th>4</th>\n",
              "      <td>1368576000000</td>\n",
              "      <td>114.71</td>\n",
              "      <td>117.18</td>\n",
              "      <td>114.16</td>\n",
              "      <td>114.16</td>\n",
              "      <td>2013-05-15</td>\n",
              "    </tr>\n",
              "  </tbody>\n",
              "</table>\n",
              "</div>"
            ],
            "text/plain": [
              "       Timestamp    Open    High     Low   Close       Dates\n",
              "0  1367280000000  135.30  141.96  135.30  135.30  2013-04-30\n",
              "1  1367539200000  117.00  117.00   91.01   91.01  2013-05-03\n",
              "2  1367884800000  111.25  118.33  106.40  106.40  2013-05-07\n",
              "3  1368230400000  112.64  118.78  112.64  113.01  2013-05-11\n",
              "4  1368576000000  114.71  117.18  114.16  114.16  2013-05-15"
            ]
          },
          "execution_count": 4,
          "metadata": {},
          "output_type": "execute_result"
        }
      ],
      "source": [
        "data = pd.read_csv('btc_ohlc.csv', sep=',')\n",
        "print(\"Number of datapoint:\", len(data))\n",
        "data.head() #,encoding ='latin1')"
      ]
    },
    {
      "cell_type": "markdown",
      "metadata": {
        "id": "e8PbI4BWomPx"
      },
      "source": [
        "## <font color=#FFBD33>2. EDA </font>"
      ]
    },
    {
      "cell_type": "code",
      "execution_count": 5,
      "metadata": {
        "colab": {
          "base_uri": "https://localhost:8080/"
        },
        "id": "rA9g6WgDoosv",
        "outputId": "3b56b770-d578-4e40-fe4d-29ec7c0617fc"
      },
      "outputs": [
        {
          "data": {
            "text/plain": [
              "Timestamp      int64\n",
              "Open         float64\n",
              "High         float64\n",
              "Low          float64\n",
              "Close        float64\n",
              "Dates         object\n",
              "dtype: object"
            ]
          },
          "execution_count": 5,
          "metadata": {},
          "output_type": "execute_result"
        }
      ],
      "source": [
        "#Check Data Dtypes\n",
        "data.dtypes"
      ]
    },
    {
      "cell_type": "code",
      "execution_count": 6,
      "metadata": {
        "colab": {
          "base_uri": "https://localhost:8080/",
          "height": 361
        },
        "id": "rHZ9BX5CowEK",
        "outputId": "03c22350-86cd-413a-af06-0fbd7da0a0aa"
      },
      "outputs": [
        {
          "data": {
            "text/html": [
              "<div>\n",
              "<style scoped>\n",
              "    .dataframe tbody tr th:only-of-type {\n",
              "        vertical-align: middle;\n",
              "    }\n",
              "\n",
              "    .dataframe tbody tr th {\n",
              "        vertical-align: top;\n",
              "    }\n",
              "\n",
              "    .dataframe thead th {\n",
              "        text-align: right;\n",
              "    }\n",
              "</style>\n",
              "<table border=\"1\" class=\"dataframe\">\n",
              "  <thead>\n",
              "    <tr style=\"text-align: right;\">\n",
              "      <th></th>\n",
              "      <th>Timestamp</th>\n",
              "      <th>Open</th>\n",
              "      <th>High</th>\n",
              "      <th>Low</th>\n",
              "      <th>Close</th>\n",
              "    </tr>\n",
              "  </thead>\n",
              "  <tbody>\n",
              "    <tr>\n",
              "      <th>count</th>\n",
              "      <td>9.170000e+02</td>\n",
              "      <td>917.000000</td>\n",
              "      <td>917.000000</td>\n",
              "      <td>917.000000</td>\n",
              "      <td>917.000000</td>\n",
              "    </tr>\n",
              "    <tr>\n",
              "      <th>mean</th>\n",
              "      <td>1.519020e+12</td>\n",
              "      <td>11028.342268</td>\n",
              "      <td>11370.142999</td>\n",
              "      <td>10679.879771</td>\n",
              "      <td>11035.328539</td>\n",
              "    </tr>\n",
              "    <tr>\n",
              "      <th>std</th>\n",
              "      <td>8.774597e+10</td>\n",
              "      <td>15646.754759</td>\n",
              "      <td>16112.510210</td>\n",
              "      <td>15142.304420</td>\n",
              "      <td>15619.569838</td>\n",
              "    </tr>\n",
              "    <tr>\n",
              "      <th>min</th>\n",
              "      <td>1.367280e+12</td>\n",
              "      <td>77.500000</td>\n",
              "      <td>78.800000</td>\n",
              "      <td>67.810000</td>\n",
              "      <td>68.080000</td>\n",
              "    </tr>\n",
              "    <tr>\n",
              "      <th>25%</th>\n",
              "      <td>1.443312e+12</td>\n",
              "      <td>483.420000</td>\n",
              "      <td>497.320000</td>\n",
              "      <td>471.130000</td>\n",
              "      <td>480.030000</td>\n",
              "    </tr>\n",
              "    <tr>\n",
              "      <th>50%</th>\n",
              "      <td>1.518998e+12</td>\n",
              "      <td>4863.190000</td>\n",
              "      <td>4863.190000</td>\n",
              "      <td>4556.600000</td>\n",
              "      <td>4807.930000</td>\n",
              "    </tr>\n",
              "    <tr>\n",
              "      <th>75%</th>\n",
              "      <td>1.594771e+12</td>\n",
              "      <td>11385.060000</td>\n",
              "      <td>11768.130000</td>\n",
              "      <td>11066.310000</td>\n",
              "      <td>11435.570000</td>\n",
              "    </tr>\n",
              "    <tr>\n",
              "      <th>max</th>\n",
              "      <td>1.670717e+12</td>\n",
              "      <td>65005.650000</td>\n",
              "      <td>67617.020000</td>\n",
              "      <td>64432.050000</td>\n",
              "      <td>65648.980000</td>\n",
              "    </tr>\n",
              "  </tbody>\n",
              "</table>\n",
              "</div>"
            ],
            "text/plain": [
              "          Timestamp          Open          High           Low         Close\n",
              "count  9.170000e+02    917.000000    917.000000    917.000000    917.000000\n",
              "mean   1.519020e+12  11028.342268  11370.142999  10679.879771  11035.328539\n",
              "std    8.774597e+10  15646.754759  16112.510210  15142.304420  15619.569838\n",
              "min    1.367280e+12     77.500000     78.800000     67.810000     68.080000\n",
              "25%    1.443312e+12    483.420000    497.320000    471.130000    480.030000\n",
              "50%    1.518998e+12   4863.190000   4863.190000   4556.600000   4807.930000\n",
              "75%    1.594771e+12  11385.060000  11768.130000  11066.310000  11435.570000\n",
              "max    1.670717e+12  65005.650000  67617.020000  64432.050000  65648.980000"
            ]
          },
          "execution_count": 6,
          "metadata": {},
          "output_type": "execute_result"
        }
      ],
      "source": [
        "data.describe()"
      ]
    },
    {
      "cell_type": "code",
      "execution_count": 7,
      "metadata": {
        "colab": {
          "base_uri": "https://localhost:8080/"
        },
        "id": "2eNmq1E8o36Q",
        "outputId": "85d141b0-681b-4911-bcd5-5024f316d584"
      },
      "outputs": [
        {
          "data": {
            "text/plain": [
              "Timestamp    0\n",
              "Open         0\n",
              "High         0\n",
              "Low          0\n",
              "Close        0\n",
              "Dates        0\n",
              "dtype: int64"
            ]
          },
          "execution_count": 7,
          "metadata": {},
          "output_type": "execute_result"
        }
      ],
      "source": [
        "data.isnull().sum()"
      ]
    },
    {
      "cell_type": "markdown",
      "metadata": {
        "id": "OQt1cydYpAE8"
      },
      "source": [
        "## <font color=#FFBD33>3. Visualize Numerical Data </font>"
      ]
    },
    {
      "cell_type": "code",
      "execution_count": 8,
      "metadata": {
        "id": "P5QFEBwoq4X7"
      },
      "outputs": [],
      "source": [
        "df = data"
      ]
    },
    {
      "cell_type": "code",
      "execution_count": 9,
      "metadata": {},
      "outputs": [
        {
          "data": {
            "image/png": "[encoded data removed]",
            "text/plain": [
              "<Figure size 1600x400 with 4 Axes>"
            ]
          },
          "metadata": {},
          "output_type": "display_data"
        }
      ],
      "source": [
        "# Correlation check\n",
        "def pp(x,y,z,a):\n",
        "    sns.pairplot(df, x_vars=[x,y,z,a], y_vars='Close',height=4, aspect=1, kind='reg')\n",
        "    plt.show()\n",
        "\n",
        "pp('Open', 'High', 'Low', 'Timestamp')"
      ]
    },
    {
      "cell_type": "code",
      "execution_count": 10,
      "metadata": {},
      "outputs": [
        {
          "data": {
            "text/html": [
              "<style type=\"text/css\">\n",
              "#T_0b2a8_row0_col0, #T_0b2a8_row1_col1, #T_0b2a8_row2_col2, #T_0b2a8_row3_col3, #T_0b2a8_row4_col4 {\n",
              "  background-color: #023858;\n",
              "  color: #f1f1f1;\n",
              "}\n",
              "#T_0b2a8_row0_col1, #T_0b2a8_row0_col2, #T_0b2a8_row0_col3, #T_0b2a8_row0_col4, #T_0b2a8_row1_col0, #T_0b2a8_row2_col0, #T_0b2a8_row4_col0 {\n",
              "  background-color: #fff7fb;\n",
              "  color: #000000;\n",
              "}\n",
              "#T_0b2a8_row1_col2, #T_0b2a8_row1_col3, #T_0b2a8_row2_col1, #T_0b2a8_row2_col3, #T_0b2a8_row2_col4, #T_0b2a8_row3_col1, #T_0b2a8_row3_col2, #T_0b2a8_row3_col4, #T_0b2a8_row4_col2, #T_0b2a8_row4_col3 {\n",
              "  background-color: #02395a;\n",
              "  color: #f1f1f1;\n",
              "}\n",
              "#T_0b2a8_row1_col4, #T_0b2a8_row4_col1 {\n",
              "  background-color: #023a5b;\n",
              "  color: #f1f1f1;\n",
              "}\n",
              "#T_0b2a8_row3_col0 {\n",
              "  background-color: #fef6fb;\n",
              "  color: #000000;\n",
              "}\n",
              "</style>\n",
              "<table id=\"T_0b2a8\">\n",
              "  <thead>\n",
              "    <tr>\n",
              "      <th class=\"blank level0\" >&nbsp;</th>\n",
              "      <th id=\"T_0b2a8_level0_col0\" class=\"col_heading level0 col0\" >Timestamp</th>\n",
              "      <th id=\"T_0b2a8_level0_col1\" class=\"col_heading level0 col1\" >Open</th>\n",
              "      <th id=\"T_0b2a8_level0_col2\" class=\"col_heading level0 col2\" >High</th>\n",
              "      <th id=\"T_0b2a8_level0_col3\" class=\"col_heading level0 col3\" >Low</th>\n",
              "      <th id=\"T_0b2a8_level0_col4\" class=\"col_heading level0 col4\" >Close</th>\n",
              "    </tr>\n",
              "  </thead>\n",
              "  <tbody>\n",
              "    <tr>\n",
              "      <th id=\"T_0b2a8_level0_row0\" class=\"row_heading level0 row0\" >Timestamp</th>\n",
              "      <td id=\"T_0b2a8_row0_col0\" class=\"data row0 col0\" >1.00</td>\n",
              "      <td id=\"T_0b2a8_row0_col1\" class=\"data row0 col1\" >0.74</td>\n",
              "      <td id=\"T_0b2a8_row0_col2\" class=\"data row0 col2\" >0.74</td>\n",
              "      <td id=\"T_0b2a8_row0_col3\" class=\"data row0 col3\" >0.74</td>\n",
              "      <td id=\"T_0b2a8_row0_col4\" class=\"data row0 col4\" >0.74</td>\n",
              "    </tr>\n",
              "    <tr>\n",
              "      <th id=\"T_0b2a8_level0_row1\" class=\"row_heading level0 row1\" >Open</th>\n",
              "      <td id=\"T_0b2a8_row1_col0\" class=\"data row1 col0\" >0.74</td>\n",
              "      <td id=\"T_0b2a8_row1_col1\" class=\"data row1 col1\" >1.00</td>\n",
              "      <td id=\"T_0b2a8_row1_col2\" class=\"data row1 col2\" >1.00</td>\n",
              "      <td id=\"T_0b2a8_row1_col3\" class=\"data row1 col3\" >1.00</td>\n",
              "      <td id=\"T_0b2a8_row1_col4\" class=\"data row1 col4\" >1.00</td>\n",
              "    </tr>\n",
              "    <tr>\n",
              "      <th id=\"T_0b2a8_level0_row2\" class=\"row_heading level0 row2\" >High</th>\n",
              "      <td id=\"T_0b2a8_row2_col0\" class=\"data row2 col0\" >0.74</td>\n",
              "      <td id=\"T_0b2a8_row2_col1\" class=\"data row2 col1\" >1.00</td>\n",
              "      <td id=\"T_0b2a8_row2_col2\" class=\"data row2 col2\" >1.00</td>\n",
              "      <td id=\"T_0b2a8_row2_col3\" class=\"data row2 col3\" >1.00</td>\n",
              "      <td id=\"T_0b2a8_row2_col4\" class=\"data row2 col4\" >1.00</td>\n",
              "    </tr>\n",
              "    <tr>\n",
              "      <th id=\"T_0b2a8_level0_row3\" class=\"row_heading level0 row3\" >Low</th>\n",
              "      <td id=\"T_0b2a8_row3_col0\" class=\"data row3 col0\" >0.74</td>\n",
              "      <td id=\"T_0b2a8_row3_col1\" class=\"data row3 col1\" >1.00</td>\n",
              "      <td id=\"T_0b2a8_row3_col2\" class=\"data row3 col2\" >1.00</td>\n",
              "      <td id=\"T_0b2a8_row3_col3\" class=\"data row3 col3\" >1.00</td>\n",
              "      <td id=\"T_0b2a8_row3_col4\" class=\"data row3 col4\" >1.00</td>\n",
              "    </tr>\n",
              "    <tr>\n",
              "      <th id=\"T_0b2a8_level0_row4\" class=\"row_heading level0 row4\" >Close</th>\n",
              "      <td id=\"T_0b2a8_row4_col0\" class=\"data row4 col0\" >0.74</td>\n",
              "      <td id=\"T_0b2a8_row4_col1\" class=\"data row4 col1\" >1.00</td>\n",
              "      <td id=\"T_0b2a8_row4_col2\" class=\"data row4 col2\" >1.00</td>\n",
              "      <td id=\"T_0b2a8_row4_col3\" class=\"data row4 col3\" >1.00</td>\n",
              "      <td id=\"T_0b2a8_row4_col4\" class=\"data row4 col4\" >1.00</td>\n",
              "    </tr>\n",
              "  </tbody>\n",
              "</table>\n"
            ],
            "text/plain": [
              "<pandas.io.formats.style.Styler at 0x13f9bf6a0>"
            ]
          },
          "execution_count": 10,
          "metadata": {},
          "output_type": "execute_result"
        }
      ],
      "source": [
        "# Correlation check \n",
        "df.corr().style.background_gradient().set_precision(2)"
      ]
    },
    {
      "cell_type": "code",
      "execution_count": 11,
      "metadata": {
        "colab": {
          "base_uri": "https://localhost:8080/",
          "height": 295
        },
        "id": "1wzw-473q7zN",
        "outputId": "69223450-fd8b-441e-f12a-2a3e3427c7d4"
      },
      "outputs": [
        {
          "data": {
            "image/png": "[encoded data removed]",
            "text/plain": [
              "<Figure size 640x480 with 1 Axes>"
            ]
          },
          "metadata": {},
          "output_type": "display_data"
        }
      ],
      "source": [
        "# Scatter Plot \"Timestamp\" & \"Prices\"\n",
        "plt.scatter(df['Timestamp'], df['Close'])\n",
        "plt.xlabel('Timestamp')\n",
        "plt.ylabel('Close Price (USD)')\n",
        "plt.title('Bitcoin History')\n",
        "plt.show()"
      ]
    },
    {
      "cell_type": "markdown",
      "metadata": {
        "id": "eAASP_532zgL"
      },
      "source": [
        "## <font color=#FFBD33>4. Model Selection</font>"
      ]
    },
    {
      "cell_type": "code",
      "execution_count": 12,
      "metadata": {},
      "outputs": [],
      "source": [
        "# select the columns to fit the model\n",
        "x = df.drop(columns=['Dates', 'Close', 'Timestamp'])\n",
        "y = df['Close']"
      ]
    },
    {
      "cell_type": "code",
      "execution_count": 13,
      "metadata": {},
      "outputs": [
        {
          "data": {
            "text/html": [
              "<div>\n",
              "<style scoped>\n",
              "    .dataframe tbody tr th:only-of-type {\n",
              "        vertical-align: middle;\n",
              "    }\n",
              "\n",
              "    .dataframe tbody tr th {\n",
              "        vertical-align: top;\n",
              "    }\n",
              "\n",
              "    .dataframe thead th {\n",
              "        text-align: right;\n",
              "    }\n",
              "</style>\n",
              "<table border=\"1\" class=\"dataframe\">\n",
              "  <thead>\n",
              "    <tr style=\"text-align: right;\">\n",
              "      <th></th>\n",
              "      <th>Open</th>\n",
              "      <th>High</th>\n",
              "      <th>Low</th>\n",
              "    </tr>\n",
              "  </thead>\n",
              "  <tbody>\n",
              "    <tr>\n",
              "      <th>0</th>\n",
              "      <td>135.30</td>\n",
              "      <td>141.96</td>\n",
              "      <td>135.30</td>\n",
              "    </tr>\n",
              "    <tr>\n",
              "      <th>1</th>\n",
              "      <td>117.00</td>\n",
              "      <td>117.00</td>\n",
              "      <td>91.01</td>\n",
              "    </tr>\n",
              "    <tr>\n",
              "      <th>2</th>\n",
              "      <td>111.25</td>\n",
              "      <td>118.33</td>\n",
              "      <td>106.40</td>\n",
              "    </tr>\n",
              "    <tr>\n",
              "      <th>3</th>\n",
              "      <td>112.64</td>\n",
              "      <td>118.78</td>\n",
              "      <td>112.64</td>\n",
              "    </tr>\n",
              "    <tr>\n",
              "      <th>4</th>\n",
              "      <td>114.71</td>\n",
              "      <td>117.18</td>\n",
              "      <td>114.16</td>\n",
              "    </tr>\n",
              "  </tbody>\n",
              "</table>\n",
              "</div>"
            ],
            "text/plain": [
              "     Open    High     Low\n",
              "0  135.30  141.96  135.30\n",
              "1  117.00  117.00   91.01\n",
              "2  111.25  118.33  106.40\n",
              "3  112.64  118.78  112.64\n",
              "4  114.71  117.18  114.16"
            ]
          },
          "execution_count": 13,
          "metadata": {},
          "output_type": "execute_result"
        }
      ],
      "source": [
        "x.head()"
      ]
    },
    {
      "cell_type": "code",
      "execution_count": 14,
      "metadata": {},
      "outputs": [
        {
          "data": {
            "text/plain": [
              "0    135.30\n",
              "1     91.01\n",
              "2    106.40\n",
              "3    113.01\n",
              "4    114.16\n",
              "Name: Close, dtype: float64"
            ]
          },
          "execution_count": 14,
          "metadata": {},
          "output_type": "execute_result"
        }
      ],
      "source": [
        "y.head()"
      ]
    },
    {
      "cell_type": "code",
      "execution_count": 15,
      "metadata": {
        "id": "mkv368jv3hlw"
      },
      "outputs": [],
      "source": [
        "#Split data into a 85% training data set and 15% testing data set\n",
        "x_train, x_test, y_train, y_test = train_test_split(x, y, test_size = 0.15, random_state=0, shuffle=False)"
      ]
    },
    {
      "cell_type": "code",
      "execution_count": 16,
      "metadata": {
        "colab": {
          "base_uri": "https://localhost:8080/"
        },
        "id": "4AXSO1-y3pRS",
        "outputId": "ae6bf6ea-7a2b-4ecd-fa55-65d06b9d3ebc"
      },
      "outputs": [
        {
          "name": "stdout",
          "output_type": "stream",
          "text": [
            "(779, 3)\n",
            "(779,)\n",
            "(138, 3)\n",
            "(138,)\n"
          ]
        }
      ],
      "source": [
        "#check shape from training & testing\n",
        "print(x_train.shape)\n",
        "print(y_train.shape)\n",
        "print(x_test.shape)\n",
        "print(y_test.shape)"
      ]
    },
    {
      "cell_type": "code",
      "execution_count": 17,
      "metadata": {
        "id": "AAmtwuml3poB"
      },
      "outputs": [],
      "source": [
        "# Create object liniear regression\n",
        "lin_reg = LinearRegression()"
      ]
    },
    {
      "cell_type": "code",
      "execution_count": 18,
      "metadata": {
        "colab": {
          "base_uri": "https://localhost:8080/"
        },
        "id": "QwjerNXW3v6u",
        "outputId": "372c2c5d-d6b2-4e5b-f70a-56df81a4f0e5"
      },
      "outputs": [
        {
          "data": {
            "text/html": [
              "<style>#sk-container-id-1 {color: black;background-color: white;}#sk-container-id-1 pre{padding: 0;}#sk-container-id-1 div.sk-toggleable {background-color: white;}#sk-container-id-1 label.sk-toggleable__label {cursor: pointer;display: block;width: 100%;margin-bottom: 0;padding: 0.3em;box-sizing: border-box;text-align: center;}#sk-container-id-1 label.sk-toggleable__label-arrow:before {content: \"▸\";float: left;margin-right: 0.25em;color: #696969;}#sk-container-id-1 label.sk-toggleable__label-arrow:hover:before {color: black;}#sk-container-id-1 div.sk-estimator:hover label.sk-toggleable__label-arrow:before {color: black;}#sk-container-id-1 div.sk-toggleable__content {max-height: 0;max-width: 0;overflow: hidden;text-align: left;background-color: #f0f8ff;}#sk-container-id-1 div.sk-toggleable__content pre {margin: 0.2em;color: black;border-radius: 0.25em;background-color: #f0f8ff;}#sk-container-id-1 input.sk-toggleable__control:checked~div.sk-toggleable__content {max-height: 200px;max-width: 100%;overflow: auto;}#sk-container-id-1 input.sk-toggleable__control:checked~label.sk-toggleable__label-arrow:before {content: \"▾\";}#sk-container-id-1 div.sk-estimator input.sk-toggleable__control:checked~label.sk-toggleable__label {background-color: #d4ebff;}#sk-container-id-1 div.sk-label input.sk-toggleable__control:checked~label.sk-toggleable__label {background-color: #d4ebff;}#sk-container-id-1 input.sk-hidden--visually {border: 0;clip: rect(1px 1px 1px 1px);clip: rect(1px, 1px, 1px, 1px);height: 1px;margin: -1px;overflow: hidden;padding: 0;position: absolute;width: 1px;}#sk-container-id-1 div.sk-estimator {font-family: monospace;background-color: #f0f8ff;border: 1px dotted black;border-radius: 0.25em;box-sizing: border-box;margin-bottom: 0.5em;}#sk-container-id-1 div.sk-estimator:hover {background-color: #d4ebff;}#sk-container-id-1 div.sk-parallel-item::after {content: \"\";width: 100%;border-bottom: 1px solid gray;flex-grow: 1;}#sk-container-id-1 div.sk-label:hover label.sk-toggleable__label {background-color: #d4ebff;}#sk-container-id-1 div.sk-serial::before {content: \"\";position: absolute;border-left: 1px solid gray;box-sizing: border-box;top: 0;bottom: 0;left: 50%;z-index: 0;}#sk-container-id-1 div.sk-serial {display: flex;flex-direction: column;align-items: center;background-color: white;padding-right: 0.2em;padding-left: 0.2em;position: relative;}#sk-container-id-1 div.sk-item {position: relative;z-index: 1;}#sk-container-id-1 div.sk-parallel {display: flex;align-items: stretch;justify-content: center;background-color: white;position: relative;}#sk-container-id-1 div.sk-item::before, #sk-container-id-1 div.sk-parallel-item::before {content: \"\";position: absolute;border-left: 1px solid gray;box-sizing: border-box;top: 0;bottom: 0;left: 50%;z-index: -1;}#sk-container-id-1 div.sk-parallel-item {display: flex;flex-direction: column;z-index: 1;position: relative;background-color: white;}#sk-container-id-1 div.sk-parallel-item:first-child::after {align-self: flex-end;width: 50%;}#sk-container-id-1 div.sk-parallel-item:last-child::after {align-self: flex-start;width: 50%;}#sk-container-id-1 div.sk-parallel-item:only-child::after {width: 0;}#sk-container-id-1 div.sk-dashed-wrapped {border: 1px dashed gray;margin: 0 0.4em 0.5em 0.4em;box-sizing: border-box;padding-bottom: 0.4em;background-color: white;}#sk-container-id-1 div.sk-label label {font-family: monospace;font-weight: bold;display: inline-block;line-height: 1.2em;}#sk-container-id-1 div.sk-label-container {text-align: center;}#sk-container-id-1 div.sk-container {/* jupyter's `normalize.less` sets `[hidden] { display: none; }` but bootstrap.min.css set `[hidden] { display: none !important; }` so we also need the `!important` here to be able to override the default hidden behavior on the sphinx rendered scikit-learn.org. See: https://github.com/scikit-learn/scikit-learn/issues/21755 */display: inline-block !important;position: relative;}#sk-container-id-1 div.sk-text-repr-fallback {display: none;}</style><div id=\"sk-container-id-1\" class=\"sk-top-container\"><div class=\"sk-text-repr-fallback\"><pre>LinearRegression()</pre><b>In a Jupyter environment, please rerun this cell to show the HTML representation or trust the notebook. <br />On GitHub, the HTML representation is unable to render, please try loading this page with nbviewer.org.</b></div><div class=\"sk-container\" hidden><div class=\"sk-item\"><div class=\"sk-estimator sk-toggleable\"><input class=\"sk-toggleable__control sk-hidden--visually\" id=\"sk-estimator-id-1\" type=\"checkbox\" checked><label for=\"sk-estimator-id-1\" class=\"sk-toggleable__label sk-toggleable__label-arrow\">LinearRegression</label><div class=\"sk-toggleable__content\"><pre>LinearRegression()</pre></div></div></div></div></div>"
            ],
            "text/plain": [
              "LinearRegression()"
            ]
          },
          "execution_count": 18,
          "metadata": {},
          "output_type": "execute_result"
        }
      ],
      "source": [
        "lin_reg.fit(x_train, y_train)"
      ]
    },
    {
      "cell_type": "markdown",
      "metadata": {},
      "source": [
        "## <font color=#FFBD33>5. Model Evaluation </font>"
      ]
    },
    {
      "cell_type": "code",
      "execution_count": 19,
      "metadata": {},
      "outputs": [
        {
          "name": "stdout",
          "output_type": "stream",
          "text": [
            "Accuracy of model :  0.9978183753686328\n"
          ]
        }
      ],
      "source": [
        "#accuracy score using r2_score\n",
        "from sklearn.metrics import r2_score\n",
        "\n",
        "prediction = lin_reg.predict(x_test)\n",
        "print('Accuracy of model : ', r2_score(prediction, y_test))"
      ]
    },
    {
      "cell_type": "code",
      "execution_count": 20,
      "metadata": {},
      "outputs": [
        {
          "name": "stdout",
          "output_type": "stream",
          "text": [
            "[0.98551349 0.98862712 0.96888467 0.99126939 0.93954039]\n"
          ]
        }
      ],
      "source": [
        "#accuracy score using cross_val_score\n",
        "from sklearn.model_selection import cross_val_score\n",
        "\n",
        "scores = cross_val_score(lin_reg, x_test, y_test)\n",
        "print(scores)"
      ]
    },
    {
      "cell_type": "code",
      "execution_count": 21,
      "metadata": {},
      "outputs": [
        {
          "name": "stdout",
          "output_type": "stream",
          "text": [
            "MAE: 433.8304476487483\n",
            "MSE: 413232.9705641678\n",
            "RMSE: 642.8319924865033\n"
          ]
        }
      ],
      "source": [
        "# MAE, MSE, RMSE\n",
        "print('MAE:', metrics.mean_absolute_error(y_test, prediction))\n",
        "print('MSE:', metrics.mean_squared_error(y_test,prediction))\n",
        "print('RMSE:', np.sqrt(metrics.mean_squared_error(y_test,prediction)))\n"
      ]
    },
    {
      "cell_type": "code",
      "execution_count": 22,
      "metadata": {},
      "outputs": [
        {
          "data": {
            "text/html": [
              "<div>\n",
              "<style scoped>\n",
              "    .dataframe tbody tr th:only-of-type {\n",
              "        vertical-align: middle;\n",
              "    }\n",
              "\n",
              "    .dataframe tbody tr th {\n",
              "        vertical-align: top;\n",
              "    }\n",
              "\n",
              "    .dataframe thead th {\n",
              "        text-align: right;\n",
              "    }\n",
              "</style>\n",
              "<table border=\"1\" class=\"dataframe\">\n",
              "  <thead>\n",
              "    <tr style=\"text-align: right;\">\n",
              "      <th></th>\n",
              "      <th>Actual Price</th>\n",
              "      <th>Predicted Price</th>\n",
              "    </tr>\n",
              "  </thead>\n",
              "  <tbody>\n",
              "    <tr>\n",
              "      <th>779</th>\n",
              "      <td>33950.79</td>\n",
              "      <td>33829.485947</td>\n",
              "    </tr>\n",
              "    <tr>\n",
              "      <th>780</th>\n",
              "      <td>34149.99</td>\n",
              "      <td>34578.538155</td>\n",
              "    </tr>\n",
              "    <tr>\n",
              "      <th>781</th>\n",
              "      <td>33704.54</td>\n",
              "      <td>33025.229952</td>\n",
              "    </tr>\n",
              "    <tr>\n",
              "      <th>782</th>\n",
              "      <td>32878.50</td>\n",
              "      <td>32859.789005</td>\n",
              "    </tr>\n",
              "    <tr>\n",
              "      <th>783</th>\n",
              "      <td>31919.39</td>\n",
              "      <td>31509.900841</td>\n",
              "    </tr>\n",
              "  </tbody>\n",
              "</table>\n",
              "</div>"
            ],
            "text/plain": [
              "     Actual Price  Predicted Price\n",
              "779      33950.79     33829.485947\n",
              "780      34149.99     34578.538155\n",
              "781      33704.54     33025.229952\n",
              "782      32878.50     32859.789005\n",
              "783      31919.39     31509.900841"
            ]
          },
          "execution_count": 22,
          "metadata": {},
          "output_type": "execute_result"
        }
      ],
      "source": [
        "diff = pd.DataFrame({'Actual Price': y_test, 'Predicted Price': prediction})\n",
        "diff.head()"
      ]
    },
    {
      "cell_type": "markdown",
      "metadata": {},
      "source": [
        "## <font color=#FFBD33>6. Prediction </font>"
      ]
    },
    {
      "cell_type": "code",
      "execution_count": 23,
      "metadata": {},
      "outputs": [
        {
          "data": {
            "text/plain": [
              "Timestamp    1670371200000\n",
              "Open              16923.38\n",
              "High              17149.93\n",
              "Low               16923.38\n",
              "Close             17085.64\n",
              "Dates           2022-12-07\n",
              "Name: 915, dtype: object"
            ]
          },
          "execution_count": 23,
          "metadata": {},
          "output_type": "execute_result"
        }
      ],
      "source": [
        "# Test for actual predictions\n",
        "# Take last row from dataset, i.e from one before splitting\n",
        "sample_data = data.iloc[-2]\n",
        "sample_data"
      ]
    },
    {
      "cell_type": "code",
      "execution_count": 24,
      "metadata": {
        "colab": {
          "base_uri": "https://localhost:8080/"
        },
        "id": "lYz6q02y40ha",
        "outputId": "94327780-a3f2-4e78-aaf2-4a68081bbc4a"
      },
      "outputs": [
        {
          "name": "stdout",
          "output_type": "stream",
          "text": [
            "[16942.89552578]\n"
          ]
        }
      ],
      "source": [
        "# Create sample\n",
        "sample = [[17186, 17186, 16972]]\n",
        "# Testing sample\n",
        "sample_predict = lin_reg.predict(sample)\n",
        "\n",
        "print(sample_predict)"
      ]
    },
    {
      "cell_type": "code",
      "execution_count": 25,
      "metadata": {},
      "outputs": [],
      "source": [
        "# make predictions of future values, shift data by 30 days\n",
        "future_set = df.shift(periods=30).tail(30)"
      ]
    },
    {
      "cell_type": "code",
      "execution_count": 26,
      "metadata": {},
      "outputs": [
        {
          "data": {
            "text/html": [
              "<div>\n",
              "<style scoped>\n",
              "    .dataframe tbody tr th:only-of-type {\n",
              "        vertical-align: middle;\n",
              "    }\n",
              "\n",
              "    .dataframe tbody tr th {\n",
              "        vertical-align: top;\n",
              "    }\n",
              "\n",
              "    .dataframe thead th {\n",
              "        text-align: right;\n",
              "    }\n",
              "</style>\n",
              "<table border=\"1\" class=\"dataframe\">\n",
              "  <thead>\n",
              "    <tr style=\"text-align: right;\">\n",
              "      <th></th>\n",
              "      <th>Timestamp</th>\n",
              "      <th>Open</th>\n",
              "      <th>High</th>\n",
              "      <th>Low</th>\n",
              "      <th>Close</th>\n",
              "      <th>Dates</th>\n",
              "    </tr>\n",
              "  </thead>\n",
              "  <tbody>\n",
              "    <tr>\n",
              "      <th>887</th>\n",
              "      <td>1.651277e+12</td>\n",
              "      <td>39237.95</td>\n",
              "      <td>39741.77</td>\n",
              "      <td>38650.55</td>\n",
              "      <td>38650.55</td>\n",
              "      <td>2022-04-30</td>\n",
              "    </tr>\n",
              "    <tr>\n",
              "      <th>888</th>\n",
              "      <td>1.651536e+12</td>\n",
              "      <td>37820.61</td>\n",
              "      <td>38561.57</td>\n",
              "      <td>37820.61</td>\n",
              "      <td>38561.57</td>\n",
              "      <td>2022-05-03</td>\n",
              "    </tr>\n",
              "    <tr>\n",
              "      <th>889</th>\n",
              "      <td>1.651882e+12</td>\n",
              "      <td>37758.50</td>\n",
              "      <td>39699.02</td>\n",
              "      <td>36116.39</td>\n",
              "      <td>36116.39</td>\n",
              "      <td>2022-05-07</td>\n",
              "    </tr>\n",
              "    <tr>\n",
              "      <th>890</th>\n",
              "      <td>1.652227e+12</td>\n",
              "      <td>35573.31</td>\n",
              "      <td>35573.31</td>\n",
              "      <td>30269.59</td>\n",
              "      <td>31026.93</td>\n",
              "      <td>2022-05-11</td>\n",
              "    </tr>\n",
              "    <tr>\n",
              "      <th>891</th>\n",
              "      <td>1.652573e+12</td>\n",
              "      <td>28913.49</td>\n",
              "      <td>30189.33</td>\n",
              "      <td>28913.49</td>\n",
              "      <td>30189.33</td>\n",
              "      <td>2022-05-15</td>\n",
              "    </tr>\n",
              "  </tbody>\n",
              "</table>\n",
              "</div>"
            ],
            "text/plain": [
              "        Timestamp      Open      High       Low     Close       Dates\n",
              "887  1.651277e+12  39237.95  39741.77  38650.55  38650.55  2022-04-30\n",
              "888  1.651536e+12  37820.61  38561.57  37820.61  38561.57  2022-05-03\n",
              "889  1.651882e+12  37758.50  39699.02  36116.39  36116.39  2022-05-07\n",
              "890  1.652227e+12  35573.31  35573.31  30269.59  31026.93  2022-05-11\n",
              "891  1.652573e+12  28913.49  30189.33  28913.49  30189.33  2022-05-15"
            ]
          },
          "execution_count": 26,
          "metadata": {},
          "output_type": "execute_result"
        }
      ],
      "source": [
        "future_set.head()"
      ]
    },
    {
      "cell_type": "code",
      "execution_count": 27,
      "metadata": {},
      "outputs": [],
      "source": [
        "x1 = future_set.drop(columns=['Dates', 'Timestamp', 'Close'])\n",
        "future_predict = lin_reg.predict(x1)"
      ]
    },
    {
      "cell_type": "code",
      "execution_count": 28,
      "metadata": {},
      "outputs": [
        {
          "data": {
            "text/plain": [
              "Text(0, 0.5, '$ Price')"
            ]
          },
          "execution_count": 28,
          "metadata": {},
          "output_type": "execute_result"
        },
        {
          "data": {
            "image/png": "[encoded data removed]",
            "text/plain": [
              "<Figure size 1000x500 with 1 Axes>"
            ]
          },
          "metadata": {},
          "output_type": "display_data"
        }
      ],
      "source": [
        "plt.figure(figsize = (10, 5))\n",
        "plt.plot(df[\"Timestamp\"][-400:-60], df[\"Close\"][-400:-60], color='black', lw=2)\n",
        "plt.plot(future_set[\"Timestamp\"], future_predict, color='green', lw=2)\n",
        "plt.title(\"Bitcoin Price over time\", size=25)\n",
        "plt.xlabel(\"Timestamp\", size=20)\n",
        "plt.ylabel(\"$ Price\", size=20)\n"
      ]
    },
    {
      "cell_type": "code",
      "execution_count": 29,
      "metadata": {},
      "outputs": [
        {
          "name": "stdout",
          "output_type": "stream",
          "text": [
            "[17169.16307434]\n"
          ]
        }
      ],
      "source": [
        "#final testing\n",
        "#bitcoin's open, high, close price today \n",
        "ohl = [[17109, 17268, 17084]]\n",
        "\n",
        "#btc's close price prediction\n",
        "predict = lin_reg.predict(ohl)\n",
        "print(predict)"
      ]
    },
    {
      "cell_type": "markdown",
      "metadata": {},
      "source": [
        "## <font color=#FFBD33>7. Saving LR Model </font>"
      ]
    },
    {
      "cell_type": "code",
      "execution_count": 30,
      "metadata": {},
      "outputs": [],
      "source": [
        "import pickle\n",
        "pickle_out = open (\"btc_prediction_lr.pkl\", \"wb\")\n",
        "pickle.dump(lin_reg, pickle_out)\n",
        "pickle_out.close()"
      ]
    }
  ],
  "metadata": {
    "colab": {
      "provenance": []
    },
    "kernelspec": {
      "display_name": "Python 3.10.8 64-bit",
      "language": "python",
      "name": "python3"
    },
    "language_info": {
      "codemirror_mode": {
        "name": "ipython",
        "version": 3
      },
      "file_extension": ".py",
      "mimetype": "text/x-python",
      "name": "python",
      "nbconvert_exporter": "python",
      "pygments_lexer": "ipython3",
      "version": "3.10.8"
    },
    "vscode": {
      "interpreter": {
        "hash": "31f2aee4e71d21fbe5cf8b01ff0e069b9275f58929596ceb00d14d90e3e16cd6"
      }
    }
  },
  "nbformat": 4,
  "nbformat_minor": 0
}
